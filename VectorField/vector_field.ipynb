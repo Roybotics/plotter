{
 "cells": [
  {
   "cell_type": "code",
   "execution_count": 10,
   "metadata": {},
   "outputs": [],
   "source": [
    "%%capture \n",
    "%run xyplotter.py"
   ]
  },
  {
   "cell_type": "code",
   "execution_count": 11,
   "metadata": {},
   "outputs": [
    {
     "name": "stdout",
     "output_type": "stream",
     "text": [
      "/dev/ttyUSB1\n"
     ]
    }
   ],
   "source": [
    "plotter = XYPlotter()\n",
    "plotter.connect()"
   ]
  },
  {
   "cell_type": "code",
   "execution_count": null,
   "metadata": {},
   "outputs": [],
   "source": [
    "import math\n",
    "plotter.gotozero()\n",
    "x0=5\n",
    "y0=5\n",
    "w = 20\n",
    "h = 20 \n",
    "n = 50\n",
    "stepx = w/(n-1)\n",
    "stepy = h/(n-1)\n",
    "length= 0.80*0.5*(stepx+stepy)\n",
    "\n",
    "for xi in range(0,n,1):\n",
    "    for yi in range(0,n,1):\n",
    "        x = x0+stepx*xi \n",
    "        y = y0+stepy*yi \n",
    "        angle1 = (2*math.pi*((xi+yi)/(2*n))) % (2*math.pi) \n",
    "        angle2 = (2*math.pi*((2*xi-0.5*yi)/(2*n))) % (2*math.pi) \n",
    "        dx1 = 0.5*length*math.cos(angle1)\n",
    "        dy1 = 0.5*length*math.sin(angle1)\n",
    "        dx2 = 0.5*length*math.cos(angle2)\n",
    "        dy2 = 0.5*length*math.sin(angle2)\n",
    "        #plotter.line(x-dx1, y-dy1, x+dx1, y+dy1)\n",
    "        #plotter.line(x-dx2, y-dy2, x+dx2, y+dy2)\n",
    "        plotter.line(x, y, x+dx1, y+dy1)\n",
    "        plotter.line(x, y, x+dx2, y+dy2)\n",
    "        plotter.circle(x,y,0.5*length)\n",
    "print(\"done!\")"
   ]
  },
  {
   "cell_type": "code",
   "execution_count": null,
   "metadata": {},
   "outputs": [],
   "source": [
    "import math\n",
    "plotter.gotozero()\n",
    "x0=5\n",
    "y0=5\n",
    "w = 20\n",
    "h = 20 \n",
    "n = 100\n",
    "stepx = w/(n-1)\n",
    "stepy = h/(n-1)\n",
    "length= 0.8*0.5*(stepx+stepy)\n",
    "\n",
    "for xi in range(0,n,1):\n",
    "    for yi in range(0,n,1):\n",
    "        x = x0+stepx*xi \n",
    "        y = y0+stepy*yi \n",
    "        angle = (2*math.pi*((xi+yi)/(2*n))) % (2*math.pi) \n",
    "        dx = 0.5*length*math.cos(angle)\n",
    "        dy = 0.5*length*math.sin(angle)\n",
    "        plotter.line(x-dx, y-dy, x+dx, y+dy)\n",
    "print(\"done!\")"
   ]
  },
  {
   "cell_type": "code",
   "execution_count": 41,
   "metadata": {},
   "outputs": [
    {
     "ename": "AttributeError",
     "evalue": "'NoneType' object has no attribute 'close'",
     "output_type": "error",
     "traceback": [
      "\u001b[0;31m---------------------------------------------------------------------------\u001b[0m",
      "\u001b[0;31mAttributeError\u001b[0m                            Traceback (most recent call last)",
      "\u001b[0;32m<ipython-input-41-900379c3a7bc>\u001b[0m in \u001b[0;36m<module>\u001b[0;34m()\u001b[0m\n\u001b[0;32m----> 1\u001b[0;31m \u001b[0mser\u001b[0m\u001b[0;34m.\u001b[0m\u001b[0mclose\u001b[0m\u001b[0;34m(\u001b[0m\u001b[0;34m)\u001b[0m\u001b[0;34m\u001b[0m\u001b[0m\n\u001b[0m",
      "\u001b[0;31mAttributeError\u001b[0m: 'NoneType' object has no attribute 'close'"
     ]
    }
   ],
   "source": [
    "ser.close()"
   ]
  },
  {
   "cell_type": "code",
   "execution_count": null,
   "metadata": {},
   "outputs": [],
   "source": []
  }
 ],
 "metadata": {
  "kernelspec": {
   "display_name": "Python 3",
   "language": "python",
   "name": "python3"
  },
  "language_info": {
   "codemirror_mode": {
    "name": "ipython",
    "version": 3
   },
   "file_extension": ".py",
   "mimetype": "text/x-python",
   "name": "python",
   "nbconvert_exporter": "python",
   "pygments_lexer": "ipython3",
   "version": "3.5.3"
  }
 },
 "nbformat": 4,
 "nbformat_minor": 2
}

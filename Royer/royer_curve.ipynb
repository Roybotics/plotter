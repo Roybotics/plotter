{
 "cells": [
  {
   "cell_type": "code",
   "execution_count": 1,
   "metadata": {},
   "outputs": [],
   "source": [
    "%%capture \n",
    "%run ../xyplotter.py"
   ]
  },
  {
   "cell_type": "code",
   "execution_count": 22,
   "metadata": {},
   "outputs": [
    {
     "name": "stdout",
     "output_type": "stream",
     "text": [
      "/dev/ttyUSB1\n"
     ]
    }
   ],
   "source": [
    "plotter = XYPlotter()\n",
    "plotter.connect()"
   ]
  },
  {
   "cell_type": "code",
   "execution_count": 23,
   "metadata": {},
   "outputs": [
    {
     "data": {
      "text/plain": [
       "True"
      ]
     },
     "execution_count": 23,
     "metadata": {},
     "output_type": "execute_result"
    }
   ],
   "source": [
    "plotter.gotozero()\n",
    "#plotter.pendown()"
   ]
  },
  {
   "cell_type": "code",
   "execution_count": 24,
   "metadata": {},
   "outputs": [
    {
     "name": "stdout",
     "output_type": "stream",
     "text": [
      "script started!\n"
     ]
    },
    {
     "ename": "AttributeError",
     "evalue": "'XYPlotter' object has no attribute 'penOff'",
     "output_type": "error",
     "traceback": [
      "\u001b[0;31m---------------------------------------------------------------------------\u001b[0m",
      "\u001b[0;31mAttributeError\u001b[0m                            Traceback (most recent call last)",
      "\u001b[0;32m<ipython-input-24-7d739342f71c>\u001b[0m in \u001b[0;36m<module>\u001b[0;34m()\u001b[0m\n\u001b[1;32m     62\u001b[0m \u001b[0;34m\u001b[0m\u001b[0m\n\u001b[1;32m     63\u001b[0m \u001b[0mplotter\u001b[0m\u001b[0;34m.\u001b[0m\u001b[0mgotozero\u001b[0m\u001b[0;34m(\u001b[0m\u001b[0;34m)\u001b[0m\u001b[0;34m\u001b[0m\u001b[0m\n\u001b[0;32m---> 64\u001b[0;31m \u001b[0mplotter\u001b[0m\u001b[0;34m.\u001b[0m\u001b[0mpenOff\u001b[0m\u001b[0;34m(\u001b[0m\u001b[0;34m)\u001b[0m\u001b[0;34m\u001b[0m\u001b[0m\n\u001b[0m",
      "\u001b[0;31mAttributeError\u001b[0m: 'XYPlotter' object has no attribute 'penOff'"
     ]
    }
   ],
   "source": [
    "import math\n",
    "import random\n",
    "#import time\n",
    "\n",
    "print(\"script started!\")\n",
    "#time.sleep(60*60*8)\n",
    "plotter.gotozero()\n",
    "x0  = 5\n",
    "y0  = 5\n",
    "w   = 20\n",
    "h   = 20\n",
    "\n",
    "gap    = 0.17\n",
    "width  = 60\n",
    "height = 60\n",
    "\n",
    "blocksizex = w/width\n",
    "blocksizey = h/height\n",
    "\n",
    "speed = 500\n",
    "smooth = 1\n",
    "\n",
    "PI = math.pi\n",
    "\n",
    "for i in range(0, width, 1):\n",
    "    \n",
    "    nx = (1.0*i)/width \n",
    "    \n",
    "    #plotter.gotoxy(x0+i*blocksize, y0, 100, 0.3)\n",
    "\n",
    "    for j in range(0, height, 1):\n",
    "        \n",
    "        if i%2==1:\n",
    "            j = height-1-j\n",
    "            \n",
    "        ny = (1.0*j)/height\n",
    "        \n",
    "        cx = x0 + i*blocksizex\n",
    "        cy = y0 + j*blocksizey\n",
    "\n",
    "        rnd = random.random()\n",
    "\n",
    "        if rnd < 0.5:\n",
    "            rndi = random.randint(0,1)\n",
    "            if  rndi==0:\n",
    "                plotter.circle(cx,                  cy,                    blocksizex/2, 0,      PI/2,   0,    speed)\n",
    "                plotter.circle(cx+blocksizex,       cy+blocksizey,         blocksizex/2, PI,     3*PI/2, 0,    speed)\n",
    "            else:\n",
    "                plotter.circle(cx,                  cy+blocksizey,         blocksizex/2, 3*PI/2, 2*PI,   0,    speed)\n",
    "                plotter.circle(cx+blocksizex,       cy,                    blocksizex/2, PI/2,   PI,     0,    speed)\n",
    "        else:\n",
    "            rndi = random.randint(0,1)\n",
    "            if rndi==0:\n",
    "                plotter.line(cx,                    cy+blocksizey/2,       cx+blocksizex,       cy+blocksizey/2,    speed)\n",
    "                plotter.line(cx+blocksizex/2,       cy,                    cx+blocksizex/2,     cy+blocksizey*gap,  speed)\n",
    "                plotter.line(cx+blocksizex/2,       cy+blocksizey*(1-gap), cx+blocksizex/2,     cy+blocksizey,      speed)\n",
    "            else:\n",
    "                plotter.line(cx+blocksizex/2,       cy,                    cx+blocksizex/2,     cy+blocksizey,      speed)\n",
    "                plotter.line(cx,                    cy+blocksizey/2,       cx+blocksizex*gap,   cy+blocksizey/2,    speed)\n",
    "                plotter.line(cx+blocksizex*(1-gap), cy+blocksizey/2,       cx+blocksizex,       cy+blocksizey/2,    speed)\n",
    "\n",
    "\n",
    "plotter.gotozero()\n",
    "plotter.penOff()\n"
   ]
  },
  {
   "cell_type": "code",
   "execution_count": 5,
   "metadata": {},
   "outputs": [
    {
     "data": {
      "text/plain": [
       "True"
      ]
     },
     "execution_count": 5,
     "metadata": {},
     "output_type": "execute_result"
    }
   ],
   "source": [
    "plotter.penup()"
   ]
  },
  {
   "cell_type": "code",
   "execution_count": null,
   "metadata": {},
   "outputs": [],
   "source": []
  }
 ],
 "metadata": {
  "kernelspec": {
   "display_name": "Python 3",
   "language": "python",
   "name": "python3"
  },
  "language_info": {
   "codemirror_mode": {
    "name": "ipython",
    "version": 3
   },
   "file_extension": ".py",
   "mimetype": "text/x-python",
   "name": "python",
   "nbconvert_exporter": "python",
   "pygments_lexer": "ipython3",
   "version": "3.5.3"
  }
 },
 "nbformat": 4,
 "nbformat_minor": 2
}
